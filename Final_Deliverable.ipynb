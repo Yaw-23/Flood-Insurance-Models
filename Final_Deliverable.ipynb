{
  "cells": [
    {
      "cell_type": "code",
      "execution_count": null,
      "metadata": {
        "id": "cPlPWI0-9Dme"
      },
      "outputs": [],
      "source": [
        "# import packages\n",
        "import pandas as pd\n",
        "import numpy as np\n",
        "import math\n",
        "import time\n",
        "import matplotlib.pylab as plt\n",
        "import seaborn as sns\n",
        "from sklearn import preprocessing\n",
        "from sklearn.preprocessing import LabelEncoder\n",
        "from sklearn.model_selection import train_test_split\n",
        "from sklearn.metrics import confusion_matrix, accuracy_score, precision_score,\\\n",
        " recall_score,classification_report,roc_curve, roc_auc_score, precision_recall_curve\n",
        "from sklearn.model_selection import GridSearchCV, RandomizedSearchCV\n",
        "from sklearn.neural_network import MLPClassifier # Neural Networks\n",
        "from sklearn.neighbors import KNeighborsClassifier # KNN\n",
        "from sklearn.naive_bayes import GaussianNB, MultinomialNB # Naive Bayes\n",
        "from xgboost import XGBClassifier # XGBoost\n",
        "from sklearn.tree import DecisionTreeClassifier # Decision Tree\n",
        "from sklearn.ensemble import RandomForestClassifier # Random Forest\n",
        "from sklearn.linear_model import LogisticRegression #Logistic regression\n"
      ]
    },
    {
      "cell_type": "code",
      "execution_count": null,
      "metadata": {
        "id": "0OULTP0uCz6K"
      },
      "outputs": [],
      "source": [
        "z = pd.read_csv(\"FimaNfipClaims-new.zip\", compression=\"zip\")"
      ]
    },
    {
      "cell_type": "code",
      "execution_count": 5,
      "metadata": {
        "colab": {
          "base_uri": "https://localhost:8080/"
        },
        "id": "Njkxmr1xZkZH",
        "outputId": "c93f10a6-7ab1-495e-c91b-f96c8014aa2c"
      },
      "outputs": [
        {
          "name": "stdout",
          "output_type": "stream",
          "text": [
            "<class 'pandas.core.frame.DataFrame'>\n",
            "RangeIndex: 2478927 entries, 0 to 2478926\n",
            "Data columns (total 40 columns):\n",
            " #   Column                                      Dtype  \n",
            "---  ------                                      -----  \n",
            " 0   agricultureStructureIndicator               float64\n",
            " 1   asOfDate                                    object \n",
            " 2   baseFloodElevation                          float64\n",
            " 3   basementEnclosureCrawlspace                 float64\n",
            " 4   reportedCity                                object \n",
            " 5   condominiumIndicator                        object \n",
            " 6   policyCount                                 float64\n",
            " 7   countyCode                                  float64\n",
            " 8   communityRatingSystemDiscount               float64\n",
            " 9   dateOfLoss                                  object \n",
            " 10  elevatedBuildingIndicator                   float64\n",
            " 11  elevationCertificateIndicator               float64\n",
            " 12  elevationDifference                         float64\n",
            " 13  censusTract                                 float64\n",
            " 14  floodZone                                   object \n",
            " 15  houseWorship                                float64\n",
            " 16  latitude                                    float64\n",
            " 17  longitude                                   float64\n",
            " 18  locationOfContents                          float64\n",
            " 19  lowestAdjacentGrade                         float64\n",
            " 20  lowestFloorElevation                        float64\n",
            " 21  numberOfFloorsInTheInsuredBuilding          float64\n",
            " 22  nonProfitIndicator                          float64\n",
            " 23  obstructionType                             float64\n",
            " 24  occupancyType                               float64\n",
            " 25  originalConstructionDate                    object \n",
            " 26  originalNBDate                              object \n",
            " 27  amountPaidOnBuildingClaim                   float64\n",
            " 28  amountPaidOnContentsClaim                   float64\n",
            " 29  amountPaidOnIncreasedCostOfComplianceClaim  float64\n",
            " 30  postFIRMConstructionIndicator               float64\n",
            " 31  rateMethod                                  object \n",
            " 32  smallBusinessIndicatorBuilding              float64\n",
            " 33  state                                       object \n",
            " 34  totalBuildingInsuranceCoverage              float64\n",
            " 35  totalContentsInsuranceCoverage              float64\n",
            " 36  yearOfLoss                                  int64  \n",
            " 37  reportedZipcode                             float64\n",
            " 38  primaryResidence                            float64\n",
            " 39  id                                          object \n",
            "dtypes: float64(29), int64(1), object(10)\n",
            "memory usage: 756.5+ MB\n"
          ]
        }
      ],
      "source": [
        "z.info()"
      ]
    },
    {
      "cell_type": "markdown",
      "metadata": {
        "id": "f_VQ4pWp1ltX"
      },
      "source": [
        "# Data Preping"
      ]
    },
    {
      "cell_type": "markdown",
      "metadata": {
        "id": "xmSVHcWIDRn6"
      },
      "source": [
        "## Data and Cleaning"
      ]
    },
    {
      "cell_type": "markdown",
      "metadata": {
        "id": "N42Td2umkQM-"
      },
      "source": [
        "The data from the FEMA website had a lot of features that did not have predictive power for our business case. These include ID,asOfDate and policyCount among others. The features were filtered down to 12 main features (dummies extends it to 15). Dummies were also created for variables with categorical data of more than 2. We also filtered states down to the midwest because it is the region the business plans to operate in.\n",
        "\n",
        "To simplify our model we made some judgements in grouping values in the features.\n",
        "\n",
        "For community rating system, we grouped the values to into rated (1) and non rated (0) with nulls changed to non rated. We used a similar method for flood zones converting them into flood zones (1) and non flood zones (0). Occupancy type 6 was not defined on the FEMA website and we could not determine what it meant, given there were relatively few observations with that value, they were removed from our observations.\n",
        "\n",
        "RateMethod was classified as 0 for values of 0 or null which meant they did not specify an approach in underwriting the insurance product. Observations with original value of 1, which means they used manual calculation (underwritter's intuition/experience), were also categorized as zero and all other values represent different pricing methods used. These were all categorized as one.\n",
        "\n",
        "For observations like longitude, latitude, occupancy type etc where null did not represent zero in a way that made business sense like floodzones(and non floodzones), null observations were removed. Given how large the dataset was, we did not have to worry about not having enough observations after removing nulls."
      ]
    },
    {
      "cell_type": "code",
      "execution_count": 6,
      "metadata": {
        "colab": {
          "base_uri": "https://localhost:8080/"
        },
        "id": "3pY2983gRDeq",
        "outputId": "7d7e8ef7-c249-4072-bc45-2b7e08092a5e"
      },
      "outputs": [
        {
          "name": "stdout",
          "output_type": "stream",
          "text": [
            "<class 'pandas.core.frame.DataFrame'>\n",
            "RangeIndex: 2478927 entries, 0 to 2478926\n",
            "Data columns (total 40 columns):\n",
            " #   Column                                      Dtype  \n",
            "---  ------                                      -----  \n",
            " 0   agricultureStructureIndicator               float64\n",
            " 1   asOfDate                                    object \n",
            " 2   baseFloodElevation                          float64\n",
            " 3   basementEnclosureCrawlspace                 float64\n",
            " 4   reportedCity                                object \n",
            " 5   condominiumIndicator                        object \n",
            " 6   policyCount                                 float64\n",
            " 7   countyCode                                  float64\n",
            " 8   communityRatingSystemDiscount               float64\n",
            " 9   dateOfLoss                                  object \n",
            " 10  elevatedBuildingIndicator                   float64\n",
            " 11  elevationCertificateIndicator               float64\n",
            " 12  elevationDifference                         float64\n",
            " 13  censusTract                                 float64\n",
            " 14  floodZone                                   object \n",
            " 15  houseWorship                                float64\n",
            " 16  latitude                                    float64\n",
            " 17  longitude                                   float64\n",
            " 18  locationOfContents                          float64\n",
            " 19  lowestAdjacentGrade                         float64\n",
            " 20  lowestFloorElevation                        float64\n",
            " 21  numberOfFloorsInTheInsuredBuilding          float64\n",
            " 22  nonProfitIndicator                          float64\n",
            " 23  obstructionType                             float64\n",
            " 24  occupancyType                               float64\n",
            " 25  originalConstructionDate                    object \n",
            " 26  originalNBDate                              object \n",
            " 27  amountPaidOnBuildingClaim                   float64\n",
            " 28  amountPaidOnContentsClaim                   float64\n",
            " 29  amountPaidOnIncreasedCostOfComplianceClaim  float64\n",
            " 30  postFIRMConstructionIndicator               float64\n",
            " 31  rateMethod                                  object \n",
            " 32  smallBusinessIndicatorBuilding              float64\n",
            " 33  state                                       object \n",
            " 34  totalBuildingInsuranceCoverage              float64\n",
            " 35  totalContentsInsuranceCoverage              float64\n",
            " 36  yearOfLoss                                  int64  \n",
            " 37  reportedZipcode                             float64\n",
            " 38  primaryResidence                            float64\n",
            " 39  id                                          object \n",
            "dtypes: float64(29), int64(1), object(10)\n",
            "memory usage: 756.5+ MB\n",
            "None\n",
            "       agricultureStructureIndicator  ...  primaryResidence\n",
            "count                   2.478921e+06  ...      2.478925e+06\n",
            "mean                    1.347360e-04  ...      4.723237e-01\n",
            "std                     1.160681e-02  ...      4.992335e-01\n",
            "min                     0.000000e+00  ...      0.000000e+00\n",
            "25%                     0.000000e+00  ...      0.000000e+00\n",
            "50%                     0.000000e+00  ...      0.000000e+00\n",
            "75%                     0.000000e+00  ...      1.000000e+00\n",
            "max                     1.000000e+00  ...      1.000000e+00\n",
            "\n",
            "[8 rows x 30 columns]\n"
          ]
        }
      ],
      "source": [
        "df = z.copy()\n",
        "print(df.info())\n",
        "print(df.describe())"
      ]
    },
    {
      "cell_type": "markdown",
      "metadata": {
        "id": "LxuVNBWysg_r"
      },
      "source": [
        "### Fitering for midwest states"
      ]
    },
    {
      "cell_type": "code",
      "execution_count": 7,
      "metadata": {
        "colab": {
          "base_uri": "https://localhost:8080/"
        },
        "id": "ncWOmB_taILn",
        "outputId": "629cb17c-058c-4729-bcb5-713ae43a6755"
      },
      "outputs": [
        {
          "name": "stdout",
          "output_type": "stream",
          "text": [
            "<class 'pandas.core.frame.DataFrame'>\n",
            "RangeIndex: 2478927 entries, 0 to 2478926\n",
            "Data columns (total 40 columns):\n",
            " #   Column                                      Dtype  \n",
            "---  ------                                      -----  \n",
            " 0   agricultureStructureIndicator               float64\n",
            " 1   asOfDate                                    object \n",
            " 2   baseFloodElevation                          float64\n",
            " 3   basementEnclosureCrawlspace                 float64\n",
            " 4   reportedCity                                object \n",
            " 5   condominiumIndicator                        object \n",
            " 6   policyCount                                 float64\n",
            " 7   countyCode                                  float64\n",
            " 8   communityRatingSystemDiscount               float64\n",
            " 9   dateOfLoss                                  object \n",
            " 10  elevatedBuildingIndicator                   float64\n",
            " 11  elevationCertificateIndicator               float64\n",
            " 12  elevationDifference                         float64\n",
            " 13  censusTract                                 float64\n",
            " 14  floodZone                                   object \n",
            " 15  houseWorship                                float64\n",
            " 16  latitude                                    float64\n",
            " 17  longitude                                   float64\n",
            " 18  locationOfContents                          float64\n",
            " 19  lowestAdjacentGrade                         float64\n",
            " 20  lowestFloorElevation                        float64\n",
            " 21  numberOfFloorsInTheInsuredBuilding          float64\n",
            " 22  nonProfitIndicator                          float64\n",
            " 23  obstructionType                             float64\n",
            " 24  occupancyType                               float64\n",
            " 25  originalConstructionDate                    object \n",
            " 26  originalNBDate                              object \n",
            " 27  amountPaidOnBuildingClaim                   float64\n",
            " 28  amountPaidOnContentsClaim                   float64\n",
            " 29  amountPaidOnIncreasedCostOfComplianceClaim  float64\n",
            " 30  postFIRMConstructionIndicator               float64\n",
            " 31  rateMethod                                  object \n",
            " 32  smallBusinessIndicatorBuilding              float64\n",
            " 33  state                                       object \n",
            " 34  totalBuildingInsuranceCoverage              float64\n",
            " 35  totalContentsInsuranceCoverage              float64\n",
            " 36  yearOfLoss                                  int64  \n",
            " 37  reportedZipcode                             float64\n",
            " 38  primaryResidence                            float64\n",
            " 39  id                                          object \n",
            "dtypes: float64(29), int64(1), object(10)\n",
            "memory usage: 756.5+ MB\n"
          ]
        }
      ],
      "source": [
        "df.info()\n",
        "df = df[df.state.isin(['ND','MI','IL','IN','IA','MO','MN','NE','OH','WI','KS','SD'])]\n"
      ]
    },
    {
      "cell_type": "markdown",
      "metadata": {
        "id": "s_NTgNcqsoFx"
      },
      "source": [
        "### Dropping irrelevant attributes for the business context"
      ]
    },
    {
      "cell_type": "code",
      "execution_count": 8,
      "metadata": {
        "id": "flZ5SYWkaQVY"
      },
      "outputs": [],
      "source": [
        "df.drop(columns = ['asOfDate','baseFloodElevation','basementEnclosureCrawlspace','condominiumIndicator'], inplace = True)\n",
        "\n",
        "df.drop(columns = ['policyCount','countyCode','dateOfLoss','elevationCertificateIndicator','elevationDifference','censusTract'], inplace = True)\n",
        "\n",
        "df.drop(columns = ['locationOfContents','lowestAdjacentGrade','lowestFloorElevation','nonProfitIndicator','obstructionType'], inplace = True)\n",
        "\n",
        "df.drop(columns = ['originalConstructionDate','originalNBDate','smallBusinessIndicatorBuilding','yearOfLoss'], inplace = True)"
      ]
    },
    {
      "cell_type": "markdown",
      "metadata": {
        "id": "jshuuIM1tZBc"
      },
      "source": [
        "### Exploring various property uses"
      ]
    },
    {
      "cell_type": "code",
      "execution_count": 9,
      "metadata": {
        "colab": {
          "base_uri": "https://localhost:8080/"
        },
        "id": "Iph9EUW2R6Ha",
        "outputId": "6e16598b-0240-4826-b2c8-72e05509bf9b"
      },
      "outputs": [
        {
          "name": "stdout",
          "output_type": "stream",
          "text": [
            "agricultureStructureIndicator  houseWorship  primaryResidence\n",
            "0.0                            0.0           0.0                 144010\n",
            "                                             1.0                  85316\n",
            "1.0                            0.0           0.0                    178\n",
            "0.0                            1.0           0.0                     92\n",
            "                                             1.0                     22\n",
            "1.0                            0.0           1.0                      1\n",
            "dtype: int64\n",
            "0.0    229440\n",
            "1.0       179\n",
            "Name: agricultureStructureIndicator, dtype: int64\n",
            "0.0    229505\n",
            "1.0       114\n",
            "Name: houseWorship, dtype: int64\n",
            "0.0    144280\n",
            "1.0     85339\n",
            "Name: primaryResidence, dtype: int64\n"
          ]
        }
      ],
      "source": [
        "print(df.iloc[:,[0,5,19]].value_counts())\n",
        "print(df.iloc[:,0].value_counts())\n",
        "print(df.iloc[:,5].value_counts())\n",
        "print(df.iloc[:,19].value_counts())"
      ]
    },
    {
      "cell_type": "markdown",
      "metadata": {
        "id": "TcJlYU2SAZhi"
      },
      "source": [
        "### **communityRatingSystemDiscount**\n",
        "\n",
        "We converted nulls to zero."
      ]
    },
    {
      "cell_type": "code",
      "execution_count": 10,
      "metadata": {
        "colab": {
          "base_uri": "https://localhost:8080/"
        },
        "id": "G1kfj-3uq8MD",
        "outputId": "c4714da1-16c4-42a9-bb80-b2ce61a4adff"
      },
      "outputs": [
        {
          "name": "stdout",
          "output_type": "stream",
          "text": [
            "159945\n",
            "7.0     23638\n",
            "8.0     12833\n",
            "5.0     12585\n",
            "6.0      8744\n",
            "10.0     6458\n",
            "9.0      5227\n",
            "2.0       185\n",
            "3.0         3\n",
            "4.0         1\n",
            "Name: communityRatingSystemDiscount, dtype: int64\n"
          ]
        },
        {
          "data": {
            "text/plain": [
              "0    159945\n",
              "1     69674\n",
              "Name: communityRatingSystemDiscount, dtype: int64"
            ]
          },
          "execution_count": 10,
          "metadata": {
            "tags": []
          },
          "output_type": "execute_result"
        }
      ],
      "source": [
        "# communityRatingSystemDiscount...converting non-zeros to 1\n",
        "print(df.communityRatingSystemDiscount.isnull().sum())\n",
        "print(df.communityRatingSystemDiscount.value_counts())\n",
        "df.communityRatingSystemDiscount = df.communityRatingSystemDiscount.apply(lambda x: 1 if (x >= 0) else 0)\n",
        "df.communityRatingSystemDiscount.value_counts()"
      ]
    },
    {
      "cell_type": "markdown",
      "metadata": {
        "id": "5aII2NOABKDS"
      },
      "source": [
        "### floodZone changed null to zeros and for non zeros were changed to 1."
      ]
    },
    {
      "cell_type": "code",
      "execution_count": 11,
      "metadata": {
        "colab": {
          "base_uri": "https://localhost:8080/"
        },
        "id": "wYaj6A3pJH29",
        "outputId": "62a5a85d-166e-4b62-8eee-5e670f05a1c2"
      },
      "outputs": [
        {
          "name": "stdout",
          "output_type": "stream",
          "text": [
            "null values 23043\n",
            "AE     54739\n",
            "A      33345\n",
            "X      27414\n",
            "C      15360\n",
            "B      10347\n",
            "A10     6055\n",
            "A03     5661\n",
            "A04     4772\n",
            "A20     4716\n",
            "A05     4431\n",
            "A07     3736\n",
            "A02     3657\n",
            "A17     3558\n",
            "A08     3482\n",
            "A06     3304\n",
            "A09     2884\n",
            "A13     2696\n",
            "A15     2618\n",
            "AO      1826\n",
            "AH      1819\n",
            "A11     1581\n",
            "A14     1421\n",
            "A16     1297\n",
            "A01     1233\n",
            "A19      884\n",
            "D        836\n",
            "A18      820\n",
            "A12      671\n",
            "A21      578\n",
            "A99      323\n",
            "AHB      170\n",
            "A22      121\n",
            "AOB      120\n",
            "V12       12\n",
            "A24       12\n",
            "V10        9\n",
            "A23        8\n",
            "V14        8\n",
            "V05        7\n",
            "V09        7\n",
            "A30        6\n",
            "V08        6\n",
            "VE         6\n",
            "V11        5\n",
            "AA         5\n",
            "V15        4\n",
            "V13        3\n",
            "A25        2\n",
            "V          1\n",
            "Name: floodZone, dtype: int64\n"
          ]
        }
      ],
      "source": [
        "print('null values',df.floodZone.isna().sum())\n",
        "print(df.floodZone.value_counts())\n",
        "df.floodZone = df.floodZone.fillna(value=0)\n",
        "df.floodZone = df.floodZone.apply(lambda x: 1 if (x != 0) else 0)\n",
        "\n",
        "#print(df.floodZone.value_counts())"
      ]
    },
    {
      "cell_type": "markdown",
      "metadata": {
        "id": "Q0nkM39lDVnk"
      },
      "source": [
        "###  latitude and longitude (deleted blanks).\n"
      ]
    },
    {
      "cell_type": "code",
      "execution_count": 12,
      "metadata": {
        "id": "N8rSOqjyEui_"
      },
      "outputs": [],
      "source": [
        "# Lat & Long delete blanks\n",
        "df = df[pd.notnull(df.longitude)]\n",
        "df = df[pd.notnull(df.latitude)]"
      ]
    },
    {
      "cell_type": "markdown",
      "metadata": {
        "id": "S-cSnMCBDY9j"
      },
      "source": [
        "### OccupancyType (delete 6 and null)."
      ]
    },
    {
      "cell_type": "code",
      "execution_count": 13,
      "metadata": {
        "colab": {
          "base_uri": "https://localhost:8080/"
        },
        "id": "kLkP1AYKRnee",
        "outputId": "2bfb01cd-1163-4725-be7d-317179e7c44a"
      },
      "outputs": [
        {
          "name": "stdout",
          "output_type": "stream",
          "text": [
            "total obs: 219581 \n",
            "Occupancy type values\n",
            " 1.0    181793\n",
            "4.0     21644\n",
            "2.0      6208\n",
            "6.0      5271\n",
            "3.0      4594\n",
            "Name: occupancyType, dtype: int64\n",
            "<class 'pandas.core.frame.DataFrame'>\n",
            "Int64Index: 214239 entries, 23 to 2478921\n",
            "Data columns (total 24 columns):\n",
            " #   Column                                      Non-Null Count   Dtype  \n",
            "---  ------                                      --------------   -----  \n",
            " 0   agricultureStructureIndicator               214239 non-null  float64\n",
            " 1   reportedCity                                214209 non-null  object \n",
            " 2   communityRatingSystemDiscount               214239 non-null  int64  \n",
            " 3   elevatedBuildingIndicator                   214239 non-null  float64\n",
            " 4   floodZone                                   214239 non-null  int64  \n",
            " 5   houseWorship                                214239 non-null  float64\n",
            " 6   latitude                                    214239 non-null  float64\n",
            " 7   longitude                                   214239 non-null  float64\n",
            " 8   numberOfFloorsInTheInsuredBuilding          213236 non-null  float64\n",
            " 9   amountPaidOnBuildingClaim                   161749 non-null  float64\n",
            " 10  amountPaidOnContentsClaim                   61002 non-null   float64\n",
            " 11  amountPaidOnIncreasedCostOfComplianceClaim  3803 non-null    float64\n",
            " 12  postFIRMConstructionIndicator               214239 non-null  float64\n",
            " 13  rateMethod                                  208588 non-null  object \n",
            " 14  state                                       214239 non-null  object \n",
            " 15  totalBuildingInsuranceCoverage              214239 non-null  float64\n",
            " 16  totalContentsInsuranceCoverage              214238 non-null  float64\n",
            " 17  reportedZipcode                             212416 non-null  float64\n",
            " 18  primaryResidence                            214239 non-null  float64\n",
            " 19  id                                          214239 non-null  object \n",
            " 20  occupancyType_1.0                           214239 non-null  uint8  \n",
            " 21  occupancyType_2.0                           214239 non-null  uint8  \n",
            " 22  occupancyType_3.0                           214239 non-null  uint8  \n",
            " 23  occupancyType_4.0                           214239 non-null  uint8  \n",
            "dtypes: float64(14), int64(2), object(4), uint8(4)\n",
            "memory usage: 35.1+ MB\n"
          ]
        }
      ],
      "source": [
        "# occupancyType (delete 6 or null)\n",
        "print('total obs:',len(df),'\\nOccupancy type values\\n',df.occupancyType.value_counts())\n",
        "df = df[df.occupancyType != 6]\n",
        "df = df[pd.notnull(df.occupancyType)]\n",
        "\n",
        "df['occupancyType'] = df.occupancyType.astype('category')\n",
        "df = pd.get_dummies(df,columns=['occupancyType'],drop_first=False)\n",
        "#print('total obs:',len(df),'\\nOccupancy type values\\n',df.occupancyType.value_counts())\n",
        "df.info()"
      ]
    },
    {
      "cell_type": "markdown",
      "metadata": {
        "id": "J0WkQKSpC2kj"
      },
      "source": [
        "### Create y variables\n",
        "\n",
        "* amount paid (on building + on content + on increased cost of compliance)\n",
        "* Total coverage (on building + on content)\n",
        "* (amount paid/total coverage)*100\n",
        "* Remove variables used from dataframe"
      ]
    },
    {
      "cell_type": "code",
      "execution_count": 14,
      "metadata": {
        "colab": {
          "base_uri": "https://localhost:8080/"
        },
        "id": "OuuuRSs_J5Jh",
        "outputId": "d7ac0818-9675-48d2-a4fd-066693d5b343"
      },
      "outputs": [
        {
          "name": "stdout",
          "output_type": "stream",
          "text": [
            "<class 'pandas.core.frame.DataFrame'>\n",
            "Int64Index: 214239 entries, 23 to 2478921\n",
            "Data columns (total 24 columns):\n",
            " #   Column                                      Non-Null Count   Dtype  \n",
            "---  ------                                      --------------   -----  \n",
            " 0   agricultureStructureIndicator               214239 non-null  float64\n",
            " 1   reportedCity                                214209 non-null  object \n",
            " 2   communityRatingSystemDiscount               214239 non-null  int64  \n",
            " 3   elevatedBuildingIndicator                   214239 non-null  float64\n",
            " 4   floodZone                                   214239 non-null  int64  \n",
            " 5   houseWorship                                214239 non-null  float64\n",
            " 6   latitude                                    214239 non-null  float64\n",
            " 7   longitude                                   214239 non-null  float64\n",
            " 8   numberOfFloorsInTheInsuredBuilding          213236 non-null  float64\n",
            " 9   amountPaidOnBuildingClaim                   161749 non-null  float64\n",
            " 10  amountPaidOnContentsClaim                   61002 non-null   float64\n",
            " 11  amountPaidOnIncreasedCostOfComplianceClaim  3803 non-null    float64\n",
            " 12  postFIRMConstructionIndicator               214239 non-null  float64\n",
            " 13  rateMethod                                  208588 non-null  object \n",
            " 14  state                                       214239 non-null  object \n",
            " 15  totalBuildingInsuranceCoverage              214239 non-null  float64\n",
            " 16  totalContentsInsuranceCoverage              214238 non-null  float64\n",
            " 17  reportedZipcode                             212416 non-null  float64\n",
            " 18  primaryResidence                            214239 non-null  float64\n",
            " 19  id                                          214239 non-null  object \n",
            " 20  occupancyType_1.0                           214239 non-null  uint8  \n",
            " 21  occupancyType_2.0                           214239 non-null  uint8  \n",
            " 22  occupancyType_3.0                           214239 non-null  uint8  \n",
            " 23  occupancyType_4.0                           214239 non-null  uint8  \n",
            "dtypes: float64(14), int64(2), object(4), uint8(4)\n",
            "memory usage: 35.1+ MB\n",
            "obs: None\n",
            "0.000000      0.212315\n",
            "100.000000    0.052158\n",
            "0.285714      0.001452\n",
            "0.400000      0.000761\n",
            "50.000000     0.000574\n",
            "                ...   \n",
            "3.434848      0.000005\n",
            "18.699188     0.000005\n",
            "8.739619      0.000005\n",
            "11.424440     0.000005\n",
            "28.573813     0.000005\n",
            "Name: y, Length: 148764, dtype: float64\n",
            "obs: 214239\n"
          ]
        }
      ],
      "source": [
        "print('obs:',df.info())\n",
        "TotalPaid = df.amountPaidOnBuildingClaim.add(df.amountPaidOnContentsClaim \n",
        "                        .add(df.amountPaidOnIncreasedCostOfComplianceClaim,fill_value=0)\n",
        "                        ,fill_value=0)\n",
        "\n",
        "\n",
        "Totalcov = df.totalBuildingInsuranceCoverage.add(df.totalContentsInsuranceCoverage  ,fill_value=0)\n",
        "df['y'] = 100*TotalPaid.div(Totalcov, fill_value=0 )\n",
        "print(df.y.value_counts(normalize=True))\n",
        "print('obs:',len(df))"
      ]
    },
    {
      "cell_type": "code",
      "execution_count": 15,
      "metadata": {
        "colab": {
          "base_uri": "https://localhost:8080/"
        },
        "id": "8GINGTEj-Iuq",
        "outputId": "054685f5-60cc-431e-ae7e-92fa39be07df"
      },
      "outputs": [
        {
          "name": "stdout",
          "output_type": "stream",
          "text": [
            "<class 'pandas.core.frame.DataFrame'>\n",
            "Int64Index: 214239 entries, 23 to 2478921\n",
            "Data columns (total 20 columns):\n",
            " #   Column                              Non-Null Count   Dtype  \n",
            "---  ------                              --------------   -----  \n",
            " 0   agricultureStructureIndicator       214239 non-null  float64\n",
            " 1   reportedCity                        214209 non-null  object \n",
            " 2   communityRatingSystemDiscount       214239 non-null  int64  \n",
            " 3   elevatedBuildingIndicator           214239 non-null  float64\n",
            " 4   floodZone                           214239 non-null  int64  \n",
            " 5   houseWorship                        214239 non-null  float64\n",
            " 6   latitude                            214239 non-null  float64\n",
            " 7   longitude                           214239 non-null  float64\n",
            " 8   numberOfFloorsInTheInsuredBuilding  213236 non-null  float64\n",
            " 9   postFIRMConstructionIndicator       214239 non-null  float64\n",
            " 10  rateMethod                          208588 non-null  object \n",
            " 11  state                               214239 non-null  object \n",
            " 12  reportedZipcode                     212416 non-null  float64\n",
            " 13  primaryResidence                    214239 non-null  float64\n",
            " 14  id                                  214239 non-null  object \n",
            " 15  occupancyType_1.0                   214239 non-null  uint8  \n",
            " 16  occupancyType_2.0                   214239 non-null  uint8  \n",
            " 17  occupancyType_3.0                   214239 non-null  uint8  \n",
            " 18  occupancyType_4.0                   214239 non-null  uint8  \n",
            " 19  y                                   214234 non-null  float64\n",
            "dtypes: float64(10), int64(2), object(4), uint8(4)\n",
            "memory usage: 28.6+ MB\n"
          ]
        }
      ],
      "source": [
        "#Remove the y variable columns\n",
        "df.drop(columns = list(df.loc[:,['amountPaidOnBuildingClaim','amountPaidOnContentsClaim','amountPaidOnIncreasedCostOfComplianceClaim'\n",
        ",'totalBuildingInsuranceCoverage','totalContentsInsuranceCoverage']].columns), inplace = True)\n",
        "df.info()"
      ]
    },
    {
      "cell_type": "markdown",
      "metadata": {
        "id": "ZE2CnPqaEc1D"
      },
      "source": [
        "### rateMethod\n",
        "* convert null to zero and change 1 to zero.\n",
        "* Other ratings will grouped together as 1\n"
      ]
    },
    {
      "cell_type": "code",
      "execution_count": 16,
      "metadata": {
        "colab": {
          "base_uri": "https://localhost:8080/"
        },
        "id": "ed90cH-IKhLg",
        "outputId": "c352a782-dcca-43e0-d135-142693b239e1"
      },
      "outputs": [
        {
          "name": "stdout",
          "output_type": "stream",
          "text": [
            "1    167014\n",
            "7     26201\n",
            "3      7463\n",
            "2      3196\n",
            "R      1388\n",
            "B      1052\n",
            "G       884\n",
            "Q       531\n",
            "W       342\n",
            "P       235\n",
            "8       112\n",
            "9       100\n",
            "S        24\n",
            "5        18\n",
            "6        15\n",
            "E         6\n",
            "F         4\n",
            "4         3\n",
            "Name: rateMethod, dtype: int64\n",
            "5651\n",
            "0    172665\n",
            "1     41574\n",
            "Name: rateMethod, dtype: int64\n"
          ]
        }
      ],
      "source": [
        "print(df.rateMethod.value_counts())\n",
        "print(df.rateMethod.isnull().sum())\n",
        "df.rateMethod = df.rateMethod.fillna(value=0)\n",
        "df.rateMethod.replace('1',0, inplace=True)\n",
        "df.rateMethod = np.where(df.rateMethod != 0,1,0)\n",
        "\n",
        "print(df.rateMethod.value_counts())\n",
        "#print(df.rateMethod.isnull().sum())"
      ]
    },
    {
      "cell_type": "markdown",
      "metadata": {
        "id": "sIBlPWawGRMP"
      },
      "source": [
        "### Drop the following columns\n",
        " They are not to be used as predictors\n",
        "* reportedZipcode \n",
        "* city \n",
        "* state \n",
        "* id"
      ]
    },
    {
      "cell_type": "code",
      "execution_count": 17,
      "metadata": {
        "colab": {
          "base_uri": "https://localhost:8080/"
        },
        "id": "4ysSzNZoQyS8",
        "outputId": "afd7781d-8545-4d4f-c753-22799605d63c"
      },
      "outputs": [
        {
          "name": "stdout",
          "output_type": "stream",
          "text": [
            "<class 'pandas.core.frame.DataFrame'>\n",
            "Int64Index: 214239 entries, 23 to 2478921\n",
            "Data columns (total 16 columns):\n",
            " #   Column                              Non-Null Count   Dtype  \n",
            "---  ------                              --------------   -----  \n",
            " 0   agricultureStructureIndicator       214239 non-null  float64\n",
            " 1   communityRatingSystemDiscount       214239 non-null  int64  \n",
            " 2   elevatedBuildingIndicator           214239 non-null  float64\n",
            " 3   floodZone                           214239 non-null  int64  \n",
            " 4   houseWorship                        214239 non-null  float64\n",
            " 5   latitude                            214239 non-null  float64\n",
            " 6   longitude                           214239 non-null  float64\n",
            " 7   numberOfFloorsInTheInsuredBuilding  213236 non-null  float64\n",
            " 8   postFIRMConstructionIndicator       214239 non-null  float64\n",
            " 9   rateMethod                          214239 non-null  int64  \n",
            " 10  primaryResidence                    214239 non-null  float64\n",
            " 11  occupancyType_1.0                   214239 non-null  uint8  \n",
            " 12  occupancyType_2.0                   214239 non-null  uint8  \n",
            " 13  occupancyType_3.0                   214239 non-null  uint8  \n",
            " 14  occupancyType_4.0                   214239 non-null  uint8  \n",
            " 15  y                                   214234 non-null  float64\n",
            "dtypes: float64(9), int64(3), uint8(4)\n",
            "memory usage: 22.1 MB\n"
          ]
        }
      ],
      "source": [
        "df.drop(columns=['reportedZipcode','state','reportedCity', 'id'],inplace=True)\n",
        "df.info()"
      ]
    },
    {
      "cell_type": "markdown",
      "metadata": {
        "id": "gqwj3SR4GCms"
      },
      "source": [
        "### Drop remaining nulls"
      ]
    },
    {
      "cell_type": "code",
      "execution_count": 18,
      "metadata": {
        "colab": {
          "base_uri": "https://localhost:8080/"
        },
        "id": "hGqhe28t_d5u",
        "outputId": "7295c9cf-0617-4d10-9fcd-5127f4d649a0"
      },
      "outputs": [
        {
          "name": "stdout",
          "output_type": "stream",
          "text": [
            "<class 'pandas.core.frame.DataFrame'>\n",
            "Int64Index: 213231 entries, 23 to 2478921\n",
            "Data columns (total 16 columns):\n",
            " #   Column                              Non-Null Count   Dtype  \n",
            "---  ------                              --------------   -----  \n",
            " 0   agricultureStructureIndicator       213231 non-null  float64\n",
            " 1   communityRatingSystemDiscount       213231 non-null  int64  \n",
            " 2   elevatedBuildingIndicator           213231 non-null  float64\n",
            " 3   floodZone                           213231 non-null  int64  \n",
            " 4   houseWorship                        213231 non-null  float64\n",
            " 5   latitude                            213231 non-null  float64\n",
            " 6   longitude                           213231 non-null  float64\n",
            " 7   numberOfFloorsInTheInsuredBuilding  213231 non-null  float64\n",
            " 8   postFIRMConstructionIndicator       213231 non-null  float64\n",
            " 9   rateMethod                          213231 non-null  int64  \n",
            " 10  primaryResidence                    213231 non-null  float64\n",
            " 11  occupancyType_1.0                   213231 non-null  uint8  \n",
            " 12  occupancyType_2.0                   213231 non-null  uint8  \n",
            " 13  occupancyType_3.0                   213231 non-null  uint8  \n",
            " 14  occupancyType_4.0                   213231 non-null  uint8  \n",
            " 15  y                                   213231 non-null  float64\n",
            "dtypes: float64(9), int64(3), uint8(4)\n",
            "memory usage: 22.0 MB\n"
          ]
        }
      ],
      "source": [
        "# drop more nulls\n",
        "df = df[pd.notnull(df.numberOfFloorsInTheInsuredBuilding)]\n",
        "df = df[pd.notnull(df.y)]\n",
        "df.info()"
      ]
    },
    {
      "cell_type": "markdown",
      "metadata": {
        "id": "1mq9xXsCvn8A"
      },
      "source": [
        "## Defining target and splitting data"
      ]
    },
    {
      "cell_type": "code",
      "execution_count": 19,
      "metadata": {
        "colab": {
          "base_uri": "https://localhost:8080/"
        },
        "id": "T4C7Kxkr9Pwa",
        "outputId": "ecf3cf3d-4b1a-4343-8496-9b1419742149"
      },
      "outputs": [
        {
          "data": {
            "text/plain": [
              "1    0.837247\n",
              "0    0.162753\n",
              "Name: y, dtype: float64"
            ]
          },
          "execution_count": 19,
          "metadata": {
            "tags": []
          },
          "output_type": "execute_result"
        }
      ],
      "source": [
        "#Created Y Definition Category\n",
        "df.y = df.y.apply(lambda x: 0 if (x >= 50) else 1)\n",
        "df.y.value_counts(normalize=True)\n"
      ]
    },
    {
      "cell_type": "code",
      "execution_count": 20,
      "metadata": {
        "colab": {
          "base_uri": "https://localhost:8080/"
        },
        "id": "__1OGNUi-iYz",
        "outputId": "9355e2d5-5a42-43a0-bb3b-6b9f4bd81d23"
      },
      "outputs": [
        {
          "name": "stdout",
          "output_type": "stream",
          "text": [
            "         agricultureStructureIndicator  ...  occupancyType_4.0\n",
            "23                                 0.0  ...                  0\n",
            "59                                 0.0  ...                  0\n",
            "67                                 0.0  ...                  0\n",
            "84                                 0.0  ...                  0\n",
            "105                                0.0  ...                  0\n",
            "...                                ...  ...                ...\n",
            "2478915                            0.0  ...                  0\n",
            "2478916                            0.0  ...                  0\n",
            "2478917                            0.0  ...                  0\n",
            "2478918                            0.0  ...                  0\n",
            "2478921                            0.0  ...                  0\n",
            "\n",
            "[213231 rows x 15 columns]\n",
            "\n",
            "23         0\n",
            "59         1\n",
            "67         1\n",
            "84         1\n",
            "105        0\n",
            "          ..\n",
            "2478915    1\n",
            "2478916    0\n",
            "2478917    0\n",
            "2478918    1\n",
            "2478921    1\n",
            "Name: y, Length: 213231, dtype: int64\n",
            "\n"
          ]
        }
      ],
      "source": [
        "target = 'y'\n",
        "predictors = list(df.columns)\n",
        "predictors.remove('y')\n",
        "X = df[predictors]\n",
        "Y = df[target]\n",
        "print(X)\n",
        "print()\n",
        "print(Y)\n",
        "print()\n",
        "\n"
      ]
    },
    {
      "cell_type": "markdown",
      "metadata": {
        "id": "0EOxI_tyQ41D"
      },
      "source": [
        "### Split the data"
      ]
    },
    {
      "cell_type": "code",
      "execution_count": 21,
      "metadata": {
        "id": "EIuzSKeNHGvJ"
      },
      "outputs": [],
      "source": [
        "#Split the data\n",
        "train_X, valid_X, train_y, valid_y = train_test_split(X,Y, test_size=0.3, random_state=1)"
      ]
    },
    {
      "cell_type": "markdown",
      "metadata": {
        "id": "ZcvFzLR0Q9n8"
      },
      "source": [
        "# Models"
      ]
    },
    {
      "cell_type": "markdown",
      "metadata": {
        "id": "lQXJyCdfw3_F"
      },
      "source": [
        "## Logistic"
      ]
    },
    {
      "cell_type": "markdown",
      "metadata": {
        "id": "g8Invw-1ztCb"
      },
      "source": [
        "### Model Fitting"
      ]
    },
    {
      "cell_type": "code",
      "execution_count": 25,
      "metadata": {
        "colab": {
          "base_uri": "https://localhost:8080/"
        },
        "id": "XwEczG5p0G1y",
        "outputId": "68cfb037-4d05-46e8-b097-1a554f15e289"
      },
      "outputs": [
        {
          "data": {
            "text/plain": [
              "LogisticRegression(C=1.0, class_weight=None, dual=False, fit_intercept=True,\n",
              "                   intercept_scaling=1, l1_ratio=None, max_iter=2000,\n",
              "                   multi_class='auto', n_jobs=None, penalty='l2',\n",
              "                   random_state=1, solver='lbfgs', tol=0.0001, verbose=0,\n",
              "                   warm_start=False)"
            ]
          },
          "execution_count": 25,
          "metadata": {
            "tags": []
          },
          "output_type": "execute_result"
        }
      ],
      "source": [
        "logClassifier = LogisticRegression(random_state=1,max_iter=2000)\n",
        "logClassifier.fit(train_X,train_y)"
      ]
    },
    {
      "cell_type": "markdown",
      "metadata": {
        "id": "F_DumOcVzu1t"
      },
      "source": [
        "### ROC Curve"
      ]
    },
    {
      "cell_type": "code",
      "execution_count": 26,
      "metadata": {
        "colab": {
          "base_uri": "https://localhost:8080/",
          "height": 0
        },
        "id": "9mvj0XcQ0HzM",
        "outputId": "f1cd3e04-0ad1-4abf-d58f-0f104b036d39"
      },
      "outputs": [
        {
          "name": "stdout",
          "output_type": "stream",
          "text": [
            "Logistic: ROC AUC=0.663\n",
            "No Skill: ROC AUC=0.500\n"
          ]
        },
        {
          "data": {
            "image/png": "[encoded data removed]",
            "text/plain": [
              "<Figure size 432x288 with 1 Axes>"
            ]
          },
          "metadata": {
            "needs_background": "light",
            "tags": []
          },
          "output_type": "display_data"
        }
      ],
      "source": [
        "model_probs = logClassifier.predict_proba(valid_X)[:,1]\n",
        "ns_probs = [0 for _ in range(len(valid_y))]\n",
        "\n",
        "# calculate scores\n",
        "model_auc = roc_auc_score(valid_y, model_probs)\n",
        "ns_auc = roc_auc_score(valid_y, ns_probs)\n",
        "\n",
        "# summarize scores\n",
        "print('Logistic: ROC AUC=%.3f' % (model_auc))\n",
        "print('No Skill: ROC AUC=%.3f' % (ns_auc))\n",
        "\n",
        "# calculate roc curves\n",
        "model_fpr, model_tpr, _ = roc_curve(valid_y, model_probs)\n",
        "ns_fpr, ns_tpr, _ = roc_curve(valid_y, ns_probs)\n",
        "\n",
        "# plot the roc curve for the model\n",
        "plt.plot(model_fpr, model_tpr, linestyle='--', label='Logistic')\n",
        "plt.plot(ns_fpr, ns_tpr, linestyle='--', label='No Skill')\n",
        "\n",
        "# axis labels\n",
        "plt.xlabel('False Positive Rate')\n",
        "plt.ylabel('True Positive Rate')\n",
        "\n",
        "plt.xticks(np.arange(0, 1.1, .1))\n",
        "\n",
        "# show the legend\n",
        "plt.legend()\n",
        "# show the plot\n",
        "plt.show()"
      ]
    },
    {
      "cell_type": "markdown",
      "metadata": {
        "id": "99N6XVWqzysn"
      },
      "source": [
        "### Precision Recall Chart"
      ]
    },
    {
      "cell_type": "code",
      "execution_count": null,
      "metadata": {
        "colab": {
          "base_uri": "https://localhost:8080/",
          "height": 497
        },
        "id": "u7drrMKJ0Ius",
        "outputId": "6da517ad-db29-4fe0-e39c-5e15564ce220"
      },
      "outputs": [
        {
          "data": {
            "image/png": "[encoded data removed]",
            "text/plain": [
              "<Figure size 720x576 with 1 Axes>"
            ]
          },
          "metadata": {
            "needs_background": "light",
            "tags": []
          },
          "output_type": "display_data"
        }
      ],
      "source": [
        "precision, recall, thresholds = precision_recall_curve(valid_y, model_probs)\n",
        "\n",
        "plt.figure(figsize=(10,8))\n",
        "\n",
        "# plot the roc curve for the model\n",
        "plt.plot(recall, precision, linestyle='--', label='Logistic')\n",
        "# axis labels\n",
        "plt.xlabel('Recall')\n",
        "plt.ylabel('Precision')\n",
        "# show the legend\n",
        "plt.legend()\n",
        "\n",
        "\n",
        "plt.xticks(np.arange(0, 1.1, .1))\n",
        "\n",
        "# show the plot\n",
        "plt.show()"
      ]
    },
    {
      "cell_type": "markdown",
      "metadata": {
        "id": "8K9ZO63V0BHG"
      },
      "source": [
        "### Model Performance"
      ]
    },
    {
      "cell_type": "markdown",
      "metadata": {
        "id": "ujSi7Zoy0JVy"
      },
      "source": [
        "### Default model  (ie 50% Threshold)"
      ]
    },
    {
      "cell_type": "code",
      "execution_count": null,
      "metadata": {
        "colab": {
          "base_uri": "https://localhost:8080/"
        },
        "id": "KwbiTeQn0cnP",
        "outputId": "8ec9c43b-1b0c-4bcd-afe9-b2d6c351757c"
      },
      "outputs": [
        {
          "name": "stdout",
          "output_type": "stream",
          "text": [
            "Confusion Matrix\n",
            " [[    2 10392]\n",
            " [   10 53567]]\n",
            "Accuracy : 0.837395069640931\n",
            "Precision : 0.8375209118341438\n",
            "Recall: 0.9998133527446479\n"
          ]
        }
      ],
      "source": [
        "validation_predictions = logClassifier.predict(valid_X)\n",
        "print('Confusion Matrix\\n',confusion_matrix(valid_y, validation_predictions))\n",
        "print('Accuracy :',accuracy_score(valid_y, validation_predictions))\n",
        "print('Precision :',precision_score(valid_y, validation_predictions))\n",
        "print('Recall:',recall_score(valid_y, validation_predictions))"
      ]
    },
    {
      "cell_type": "markdown",
      "metadata": {
        "id": "MCz9X9U7ggL6"
      },
      "source": [
        "## Decision Trees"
      ]
    },
    {
      "cell_type": "code",
      "execution_count": 53,
      "metadata": {
        "id": "zQJhxHKqglmi"
      },
      "outputs": [],
      "source": [
        "# Criterion used to guide data splits\n",
        "criterion = ['gini', 'entropy']\n",
        "\n",
        "#Score measure optimizing for recall\n",
        "score_measure = 'precision'\n",
        "\n",
        "# Maximum number of levels in tree. If None, then nodes are expanded until all leaves are pure or until all \n",
        "# leaves contain less than min_samples_split samples.\n",
        "# default = None\n",
        "max_depth = [int(x) for x in np.linspace(5, 200, num = 40)]\n",
        "max_depth.append(None)\n",
        "\n",
        "# Minimum number of samples required to split a node\n",
        "# default is 2\n",
        "min_samples_split = [1, 3, 5, 8, 10, 15]\n",
        "\n",
        "# Minimum number of samples required at each leaf node\n",
        "# default = 1 \n",
        "min_samples_leaf = [1, 2, 3, 4]\n",
        "\n",
        "# max_leaf_nodes  - Grow trees with max_leaf_nodes in best-first fashion.\n",
        "# If None then unlimited number of leaf nodes.\n",
        "# default=None \n",
        "max_leaf_nodes = [None]\n",
        "\n",
        "# min_impurity_decrease - A node will be split if this split induces a decrease of the impurity greater than or equal to this value.\n",
        "# default=0.0\n",
        "min_impurity_decrease = [0.000, 0.0005, 0.001, 0.005, 0.01]\n",
        "\n",
        "# Create the random grid\n",
        "param_grid_random = { 'criterion': criterion,\n",
        "                      'max_depth': max_depth,\n",
        "                      'min_samples_split': min_samples_split,\n",
        "                      'min_samples_leaf' : min_samples_leaf,\n",
        "                      'max_leaf_nodes' : max_leaf_nodes,\n",
        "                      'min_impurity_decrease' : min_impurity_decrease\n",
        "                     }\n"
      ]
    },
    {
      "cell_type": "code",
      "execution_count": 54,
      "metadata": {
        "colab": {
          "base_uri": "https://localhost:8080/"
        },
        "id": "iiuGv-x9grYv",
        "outputId": "05022f80-a37e-4e1a-fda8-c74b30834c4d"
      },
      "outputs": [
        {
          "name": "stdout",
          "output_type": "stream",
          "text": [
            "Fitting 3 folds for each of 100 candidates, totalling 300 fits\n"
          ]
        },
        {
          "name": "stderr",
          "output_type": "stream",
          "text": [
            "[Parallel(n_jobs=-1)]: Using backend LokyBackend with 40 concurrent workers.\n",
            "[Parallel(n_jobs=-1)]: Done  82 tasks      | elapsed:    2.7s\n",
            "[Parallel(n_jobs=-1)]: Done 300 out of 300 | elapsed:    5.1s finished\n"
          ]
        },
        {
          "name": "stdout",
          "output_type": "stream",
          "text": [
            "Best parameters found:  {'min_samples_split': 3, 'min_samples_leaf': 1, 'min_impurity_decrease': 0.0, 'max_leaf_nodes': None, 'max_depth': 190, 'criterion': 'entropy'}\n"
          ]
        }
      ],
      "source": [
        "# Use the param_grid_random for an initial \"rough\" search using Randomized search\n",
        "dtree_default = DecisionTreeClassifier(random_state=1)\n",
        "# Random search of parameters, using 3 fold cross validation, \n",
        "# search across 100 different combinations, and use all available cores\n",
        "randomSearch = RandomizedSearchCV(estimator = dtree_default, param_distributions = param_grid_random, scoring=score_measure, n_iter = 100, cv = 3, verbose=2, random_state=42, n_jobs = -1)\n",
        "# Fit the random search model\n",
        "randomSearch.fit(train_X, train_y)\n",
        "bestRandomModel = randomSearch.best_estimator_\n",
        "print('Best parameters found: ', randomSearch.best_params_)\n"
      ]
    },
    {
      "cell_type": "code",
      "execution_count": 55,
      "metadata": {
        "colab": {
          "base_uri": "https://localhost:8080/"
        },
        "id": "5UOTGcnHgwKT",
        "outputId": "9c12a734-f932-4c77-ee0c-a38cf2487f2c"
      },
      "outputs": [
        {
          "name": "stdout",
          "output_type": "stream",
          "text": [
            "Accuracy Score:  0.8164608410192278\n",
            "Precision Score:  0.8712864237526478\n",
            "Recall Score:  0.9156347038796813\n",
            "\n",
            "Confusion Matrix: \n",
            " [[ 3281  7231]\n",
            " [ 4510 48948]]\n"
          ]
        }
      ],
      "source": [
        "validation_predictions = bestRandomModel.predict(valid_X)\n",
        "print('Accuracy Score: ', accuracy_score(valid_y, validation_predictions))\n",
        "print('Precision Score: ', precision_score(valid_y, validation_predictions))\n",
        "print('Recall Score: ', recall_score(valid_y, validation_predictions))\n",
        "print('\\nConfusion Matrix: \\n',confusion_matrix(valid_y, validation_predictions))"
      ]
    },
    {
      "cell_type": "markdown",
      "metadata": {
        "id": "kjU0MxW_5D1b"
      },
      "source": [
        "### Narrowing down"
      ]
    },
    {
      "cell_type": "code",
      "execution_count": 57,
      "metadata": {
        "id": "gh7zGYlt5Gab"
      },
      "outputs": [],
      "source": [
        "# let's take the best parameters from the the random search, and use this as a base for gridsearch\n",
        "param_grid = {\n",
        "              'min_samples_split': [1, 2, 3, 4, 5],  \n",
        "              'min_samples_leaf': [0, 1, 2, 3, 4],\n",
        "              'min_impurity_decrease': [0, 0.0001, 0.0002, 0.0003, 0.0004],\n",
        "              'max_leaf_nodes': [None], \n",
        "              'max_depth': [150,170,190,210,220],\n",
        "              'criterion': ['entropy'],\n",
        "}"
      ]
    },
    {
      "cell_type": "markdown",
      "metadata": {
        "id": "bJX-Ct0p7G4c"
      },
      "source": [
        "### Refined model (Using Grid CV)"
      ]
    },
    {
      "cell_type": "code",
      "execution_count": 58,
      "metadata": {
        "colab": {
          "base_uri": "https://localhost:8080/"
        },
        "id": "mmPUE6dl7HgF",
        "outputId": "822acfa7-bff4-4017-95e1-0ffc951a84b7"
      },
      "outputs": [
        {
          "name": "stdout",
          "output_type": "stream",
          "text": [
            "Fitting 3 folds for each of 625 candidates, totalling 1875 fits\n"
          ]
        },
        {
          "name": "stderr",
          "output_type": "stream",
          "text": [
            "[Parallel(n_jobs=-1)]: Using backend LokyBackend with 40 concurrent workers.\n",
            "[Parallel(n_jobs=-1)]: Done  88 tasks      | elapsed:    1.5s\n",
            "[Parallel(n_jobs=-1)]: Done 490 tasks      | elapsed:    6.0s\n",
            "[Parallel(n_jobs=-1)]: Done 848 tasks      | elapsed:    9.8s\n",
            "[Parallel(n_jobs=-1)]: Done 1213 tasks      | elapsed:   14.2s\n",
            "[Parallel(n_jobs=-1)]: Done 1658 tasks      | elapsed:   19.6s\n",
            "[Parallel(n_jobs=-1)]: Done 1875 out of 1875 | elapsed:   22.2s finished\n"
          ]
        },
        {
          "name": "stdout",
          "output_type": "stream",
          "text": [
            "Best parameters found:  {'criterion': 'entropy', 'max_depth': 210, 'max_leaf_nodes': None, 'min_impurity_decrease': 0, 'min_samples_leaf': 1, 'min_samples_split': 3}\n"
          ]
        }
      ],
      "source": [
        "# refine our search using param_grid\n",
        "dtree_tuned = DecisionTreeClassifier()\n",
        "# Random search of parameters, using 3 fold cross validation, \n",
        "# search across 100 different combinations, and use all available cores\n",
        "gridSearch = GridSearchCV(estimator = dtree_tuned, param_grid=param_grid, cv = 3, scoring = score_measure, verbose=2,  n_jobs = -1)\n",
        "# Fit the random search model\n",
        "gridSearch.fit(train_X, train_y)\n",
        "bestGridModel = gridSearch.best_estimator_\n",
        "print('Best parameters found: ', gridSearch.best_params_)"
      ]
    },
    {
      "cell_type": "markdown",
      "metadata": {
        "id": "5uo_Z5GG7otw"
      },
      "source": [
        "### Test of performance"
      ]
    },
    {
      "cell_type": "code",
      "execution_count": 59,
      "metadata": {
        "colab": {
          "base_uri": "https://localhost:8080/"
        },
        "id": "aN2kiAgv7tV2",
        "outputId": "2b614302-5bbf-4b94-dbae-649599d74d71"
      },
      "outputs": [
        {
          "name": "stdout",
          "output_type": "stream",
          "text": [
            "Accuracy score:  0.8166171642957636\n",
            "Precision score:  0.8713225479203375\n",
            "Recall score:  0.9158030603464402\n",
            "Confusion matrix: \n",
            " [[ 3282  7230]\n",
            " [ 4501 48957]]\n"
          ]
        }
      ],
      "source": [
        "validation_predictions = bestGridModel.predict(valid_X)\n",
        "print('Accuracy score: ',accuracy_score(valid_y, validation_predictions))\n",
        "print('Precision score: ',precision_score(valid_y, validation_predictions))\n",
        "print('Recall score: ',recall_score(valid_y, validation_predictions))\n",
        "print('Confusion matrix: \\n',confusion_matrix(valid_y, validation_predictions))"
      ]
    },
    {
      "cell_type": "markdown",
      "metadata": {
        "id": "EnklzBH9wDoS"
      },
      "source": [
        "## XG BOOST "
      ]
    },
    {
      "cell_type": "markdown",
      "metadata": {
        "id": "wtvolu0-xzcQ"
      },
      "source": [
        "### Parameters"
      ]
    },
    {
      "cell_type": "code",
      "execution_count": null,
      "metadata": {
        "id": "-eJWuZW1x-5I"
      },
      "outputs": [],
      "source": [
        "# Like with k-nn and decision trees, there are a number of hyperparamaters that can be explored \n",
        "\n",
        "# Number of trees in random forest; default is 100\n",
        "n_estimators = [int(x) for x in np.linspace(start = 100, stop = 1000, num = 10)]\n",
        "\n",
        "# Learning rate\n",
        "learning_rate = [0.1, 0.2, 0.3, 0.4, 0.5]\n",
        "\n",
        "# Maximum number of levels in tree. If None, then nodes are expanded until all leaves are pure or until all \n",
        "# leaves contain less than min_samples_split samples.\n",
        "# default = None\n",
        "max_depth = [int(x) for x in np.linspace(1, 200, num = 199)]\n",
        "max_depth.append(None)\n",
        "\n",
        "\n",
        "\n",
        "# Create the random grid\n",
        "param_grid_random = {'n_estimators': n_estimators,\n",
        "                      'max_depth': max_depth,\n",
        "                      'learning_rate': learning_rate,\n",
        "                     }\n",
        "\n"
      ]
    },
    {
      "cell_type": "markdown",
      "metadata": {
        "id": "Uzee1PgAyA0x"
      },
      "source": [
        "### Random Search"
      ]
    },
    {
      "cell_type": "code",
      "execution_count": null,
      "metadata": {
        "colab": {
          "base_uri": "https://localhost:8080/"
        },
        "id": "sC4lE79KyGrF",
        "outputId": "e7428775-0ad9-421d-b22d-27331b8614d5"
      },
      "outputs": [
        {
          "name": "stdout",
          "output_type": "stream",
          "text": [
            "Fitting 3 folds for each of 300 candidates, totalling 900 fits\n"
          ]
        },
        {
          "name": "stderr",
          "output_type": "stream",
          "text": [
            "[Parallel(n_jobs=-1)]: Using backend LokyBackend with 40 concurrent workers.\n",
            "[Parallel(n_jobs=-1)]: Done  82 tasks      | elapsed: 38.5min\n",
            "/usr/local/lib/python3.6/dist-packages/joblib/externals/loky/process_executor.py:691: UserWarning: A worker stopped while some jobs were given to the executor. This can be caused by a too short worker timeout or by a memory leak.\n",
            "  \"timeout or by a memory leak.\", UserWarning\n",
            "[Parallel(n_jobs=-1)]: Done 285 tasks      | elapsed: 159.5min\n",
            "[Parallel(n_jobs=-1)]: Done 568 tasks      | elapsed: 288.7min\n",
            "[Parallel(n_jobs=-1)]: Done 900 out of 900 | elapsed: 451.9min finished\n"
          ]
        },
        {
          "name": "stdout",
          "output_type": "stream",
          "text": [
            "Best parameters found:  {'n_estimators': 800, 'max_depth': 13, 'learning_rate': 0.5}\n"
          ]
        }
      ],
      "source": [
        "# Use the param_grid_random for an initial \"rough\" search using Randomized search\n",
        "xgb = XGBClassifier(randomstate=1)\n",
        "# Random search of parameters, using 3 fold cross validation, \n",
        "# search across 100 different combinations, and use all available cores\n",
        "randomSearch = RandomizedSearchCV(estimator = xgb, param_distributions = param_grid_random, scoring = score_measure, n_iter = 300, cv = 3, verbose=2, random_state=42, n_jobs = -1)\n",
        "# Fit the random search model\n",
        "#randomSearch.fit(train_X, train_y,early_stopping_rounds=10)\n",
        "randomSearch.fit(train_X, train_y)\n",
        "bestRandomModel = randomSearch.best_estimator_\n",
        "print('Best parameters found: ', randomSearch.best_params_)\n"
      ]
    },
    {
      "cell_type": "markdown",
      "metadata": {
        "id": "-KpUZ9K3yJEf"
      },
      "source": [
        "### Performance"
      ]
    },
    {
      "cell_type": "code",
      "execution_count": null,
      "metadata": {
        "colab": {
          "base_uri": "https://localhost:8080/"
        },
        "id": "EtG74pvEyOd5",
        "outputId": "c67d88dd-eaca-49ba-a2a9-181008dd6ca7"
      },
      "outputs": [
        {
          "name": "stdout",
          "output_type": "stream",
          "text": [
            "Accuracy Score:  0.8336277375685858\n",
            "Precision Score:  0.8692802587215304\n",
            "Recall Score:  0.9431845754708177\n",
            "Confusion Matrix: \n",
            " [[ 2795  7599]\n",
            " [ 3044 50533]]\n"
          ]
        }
      ],
      "source": [
        "validation_predictions = bestRandomModel.predict(valid_X)\n",
        "print('Accuracy Score: ', accuracy_score(valid_y, validation_predictions))\n",
        "print('Precision Score: ', precision_score(valid_y, validation_predictions))\n",
        "print('Recall Score: ', recall_score(valid_y, validation_predictions))\n",
        "print('Confusion Matrix: \\n', confusion_matrix(valid_y, validation_predictions))\n"
      ]
    },
    {
      "cell_type": "markdown",
      "metadata": {
        "id": "cenCpdKqwnxj"
      },
      "source": [
        "## MLP"
      ]
    },
    {
      "cell_type": "markdown",
      "metadata": {
        "id": "zhn2oQG5yiyw"
      },
      "source": [
        "### Function for fitting and predicting"
      ]
    },
    {
      "cell_type": "code",
      "execution_count": null,
      "metadata": {
        "id": "h7aQId_rydxe"
      },
      "outputs": [],
      "source": [
        "def deeplearner(combination,tf=False):\n",
        "  %%time\n",
        "  print(10*'*',f'Combination {combination}',10*'*')\n",
        "  print(27*'``')\n",
        "  start = time.time()\n",
        "  model = MLPClassifier(hidden_layer_sizes=combination, solver='adam', max_iter=200, verbose=tf, random_state=1)\n",
        "  model.fit(train_X, train_y)\n",
        "\n",
        "  end = time.time()\n",
        "  print(\"Total Time\", end - start)\n",
        "\n",
        "  %%time\n",
        "\n",
        "  start = time.time()\n",
        "  validation_predictions = model.predict(valid_X)\n",
        "  end = time.time()\n",
        "  print(\"Total Time per prediction =\", (end - start)/len(valid_X))\n",
        "\n",
        "\n",
        "  print('Accuracy Score: ', accuracy_score(valid_y, validation_predictions))\n",
        "  print('Precision Score: ', precision_score(valid_y, validation_predictions))\n",
        "  print('Recall Score: ', recall_score(valid_y, validation_predictions))"
      ]
    },
    {
      "cell_type": "markdown",
      "metadata": {
        "id": "PWMsjxQay7al"
      },
      "source": [
        "### Tunning to find the best combination."
      ]
    },
    {
      "cell_type": "code",
      "execution_count": null,
      "metadata": {
        "colab": {
          "base_uri": "https://localhost:8080/"
        },
        "id": "QZMq2fhLzKmX",
        "outputId": "e2213463-c7aa-4393-ce69-74972d2fa02d"
      },
      "outputs": [
        {
          "name": "stdout",
          "output_type": "stream",
          "text": [
            "CPU times: user 2 µs, sys: 0 ns, total: 2 µs\n",
            "Wall time: 5.48 µs\n",
            "********** Combination (150,) **********\n",
            "``````````````````````````````````````````````````````\n",
            "Total Time 195.9921190738678\n",
            "CPU times: user 41 µs, sys: 160 µs, total: 201 µs\n",
            "Wall time: 9.06 µs\n",
            "Total Time per prediction = 1.9858872630888317e-06\n",
            "Accuracy Score:  0.8360976067280487\n",
            "Precision Score:  0.8389761178062364\n",
            "Recall Score:  0.9953338186161973\n",
            "\n",
            "\n",
            "CPU times: user 41 µs, sys: 156 µs, total: 197 µs\n",
            "Wall time: 9.54 µs\n",
            "********** Combination (150, 80) **********\n",
            "``````````````````````````````````````````````````````\n",
            "Total Time 592.4936769008636\n",
            "CPU times: user 42 µs, sys: 165 µs, total: 207 µs\n",
            "Wall time: 9.78 µs\n",
            "Total Time per prediction = 2.669433862331021e-06\n",
            "Accuracy Score:  0.8380047208891529\n",
            "Precision Score:  0.8390929064657878\n",
            "Recall Score:  0.9979468801911268\n",
            "\n",
            "\n",
            "CPU times: user 34 µs, sys: 158 µs, total: 192 µs\n",
            "Wall time: 9.3 µs\n",
            "********** Combination (150, 80, 20) **********\n",
            "``````````````````````````````````````````````````````\n",
            "Total Time 739.6910848617554\n",
            "CPU times: user 33 µs, sys: 185 µs, total: 218 µs\n",
            "Wall time: 10 µs\n",
            "Total Time per prediction = 2.9781432669919064e-06\n",
            "Accuracy Score:  0.8382079379718935\n",
            "Precision Score:  0.8425765957109572\n",
            "Recall Score:  0.9921981447262818\n",
            "\n",
            "\n",
            "CPU times: user 34 µs, sys: 159 µs, total: 193 µs\n",
            "Wall time: 9.3 µs\n",
            "********** Combination (300, 150, 80) **********\n",
            "``````````````````````````````````````````````````````\n",
            "Total Time 1913.3603630065918\n",
            "CPU times: user 41 µs, sys: 186 µs, total: 227 µs\n",
            "Wall time: 10.7 µs\n",
            "Total Time per prediction = 7.705387634810689e-06\n",
            "Accuracy Score:  0.8381610417220303\n",
            "Precision Score:  0.840636131513413\n",
            "Recall Score:  0.9954831364204789\n",
            "\n",
            "\n",
            "CPU times: user 43 µs, sys: 159 µs, total: 202 µs\n",
            "Wall time: 9.54 µs\n",
            "********** Combination (300, 150, 80, 20) **********\n",
            "``````````````````````````````````````````````````````\n",
            "Total Time 2391.2599720954895\n",
            "CPU times: user 0 ns, sys: 217 µs, total: 217 µs\n",
            "Wall time: 10 µs\n",
            "Total Time per prediction = 1.0000919774310959e-05\n",
            "Accuracy Score:  0.8383798908880586\n",
            "Precision Score:  0.8413274811329692\n",
            "Recall Score:  0.994605894320324\n",
            "\n",
            "\n",
            "CPU times: user 29 µs, sys: 159 µs, total: 188 µs\n",
            "Wall time: 9.54 µs\n",
            "********** Combination (350, 150) **********\n",
            "``````````````````````````````````````````````````````\n",
            "Total Time 1447.784878730774\n",
            "CPU times: user 0 ns, sys: 241 µs, total: 241 µs\n",
            "Wall time: 11.4 µs\n",
            "Total Time per prediction = 6.427302150854825e-06\n",
            "Accuracy Score:  0.8380672492223039\n",
            "Precision Score:  0.8412342481761046\n",
            "Recall Score:  0.9943072587117606\n",
            "\n",
            "\n"
          ]
        }
      ],
      "source": [
        "#combinations = [(500,250,200),(500, 250, 200, 100),(900,500,300),(1500,450),(1200,),(900,),(600,),(450,)]\n",
        "combinations = [(150,),(150,80),(150,80,20),(300,150,80),(300,150,80,20),(350,150)]\n",
        "for combination in combinations:\n",
        "  deeplearner(combination)\n",
        "  print()\n",
        "  print()"
      ]
    },
    {
      "cell_type": "code",
      "execution_count": null,
      "metadata": {
        "colab": {
          "base_uri": "https://localhost:8080/"
        },
        "id": "S3MzKYAdaS9D",
        "outputId": "1732dd3f-3da9-4107-e126-1385e6ec719a"
      },
      "outputs": [
        {
          "name": "stdout",
          "output_type": "stream",
          "text": [
            "CPU times: user 3 µs, sys: 0 ns, total: 3 µs\n",
            "Wall time: 5.01 µs\n",
            "********** Combination (150, 80, 20) **********\n",
            "``````````````````````````````````````````````````````\n",
            "Total Time 772.8672544956207\n",
            "CPU times: user 44 µs, sys: 182 µs, total: 226 µs\n",
            "Wall time: 11 µs\n",
            "Total Time per prediction = 4.318338857413631e-06\n",
            "Accuracy Score:  0.8382079379718935\n",
            "Precision Score:  0.8425765957109572\n",
            "Recall Score:  0.9921981447262818\n"
          ]
        }
      ],
      "source": [
        "deeplearner((150, 80, 20))"
      ]
    },
    {
      "cell_type": "markdown",
      "metadata": {
        "id": "TJ8WH27mRDT-"
      },
      "source": [
        "## KNN"
      ]
    },
    {
      "cell_type": "code",
      "execution_count": null,
      "metadata": {
        "colab": {
          "base_uri": "https://localhost:8080/"
        },
        "id": "LCe59i5Z-yAo",
        "outputId": "c26ec67f-b8f8-47ce-a928-f309cea60d90"
      },
      "outputs": [
        {
          "name": "stdout",
          "output_type": "stream",
          "text": [
            "        agricultureStructureIndicator  ...  occupancyType_4.0\n",
            "0                           -0.021349  ...          -0.336470\n",
            "1                           -0.021349  ...           2.972037\n",
            "2                           -0.021349  ...           2.972037\n",
            "3                           -0.021349  ...          -0.336470\n",
            "4                           -0.021349  ...          -0.336470\n",
            "...                               ...  ...                ...\n",
            "149260                      -0.021349  ...          -0.336470\n",
            "149261                      -0.021349  ...          -0.336470\n",
            "149262                      -0.021349  ...          -0.336470\n",
            "149263                      -0.021349  ...          -0.336470\n",
            "149264                      -0.021349  ...          -0.336470\n",
            "\n",
            "[149265 rows x 16 columns]\n",
            "\n",
            "       agricultureStructureIndicator  ...  occupancyType_4.0\n",
            "0                          -0.021349  ...          -0.336470\n",
            "1                          -0.021349  ...          -0.336470\n",
            "2                          -0.021349  ...          -0.336470\n",
            "3                          -0.021349  ...          -0.336470\n",
            "4                          -0.021349  ...           2.972037\n",
            "...                              ...  ...                ...\n",
            "63966                      -0.021349  ...          -0.336470\n",
            "63967                      -0.021349  ...          -0.336470\n",
            "63968                      -0.021349  ...          -0.336470\n",
            "63969                      -0.021349  ...          -0.336470\n",
            "63970                      -0.021349  ...           2.972037\n",
            "\n",
            "[63971 rows x 16 columns]\n",
            "\n"
          ]
        }
      ],
      "source": [
        "# create a standard scaler and fit it to the training set of predictors\n",
        "scaler = preprocessing.StandardScaler()\n",
        "scaler.fit(train_X)\n",
        "\n",
        "# Transform the predictors of training, validation \n",
        "train_predictors = scaler.transform(train_X)\n",
        "validation_predictors = scaler.transform(valid_X)\n",
        "\n",
        "train_predictors=pd.DataFrame(train_predictors,columns=predictors)\n",
        "validation_predictors=pd.DataFrame(validation_predictors,columns=predictors)\n",
        "\n",
        "print(train_predictors)\n",
        "print()\n",
        "print(validation_predictors)\n",
        "print()\n"
      ]
    },
    {
      "cell_type": "code",
      "execution_count": null,
      "metadata": {
        "colab": {
          "base_uri": "https://localhost:8080/"
        },
        "id": "RhCe6eWl-5sj",
        "outputId": "9bd42ea0-8a35-43d6-910e-8492d76324a3"
      },
      "outputs": [
        {
          "name": "stdout",
          "output_type": "stream",
          "text": [
            "Fitting 3 folds for each of 77 candidates, totalling 231 fits\n"
          ]
        },
        {
          "name": "stderr",
          "output_type": "stream",
          "text": [
            "[Parallel(n_jobs=-1)]: Using backend LokyBackend with 40 concurrent workers.\n",
            "[Parallel(n_jobs=-1)]: Done 120 tasks      | elapsed: 27.5min\n",
            "/usr/local/lib/python3.6/dist-packages/joblib/externals/loky/process_executor.py:691: UserWarning: A worker stopped while some jobs were given to the executor. This can be caused by a too short worker timeout or by a memory leak.\n",
            "  \"timeout or by a memory leak.\", UserWarning\n",
            "[Parallel(n_jobs=-1)]: Done 231 out of 231 | elapsed: 52.1min finished\n"
          ]
        },
        {
          "name": "stdout",
          "output_type": "stream",
          "text": [
            "Best parameters found:  {'n_neighbors': 1}\n"
          ]
        }
      ],
      "source": [
        "params_search = {'n_neighbors':range(1,round((math.sqrt(len(df)))),6)}\n",
        "score_measure = 'precision'\n",
        "knn = KNeighborsClassifier()\n",
        "gridSearch = GridSearchCV(estimator = knn, param_grid=params_search, scoring = score_measure, verbose=1,cv=3,  n_jobs = -1)\n",
        "gridSearch.fit(train_predictors, train_y)\n",
        "bestGridModel = gridSearch.best_estimator_\n",
        "print('Best parameters found: ', gridSearch.best_params_)"
      ]
    },
    {
      "cell_type": "code",
      "execution_count": null,
      "metadata": {
        "colab": {
          "base_uri": "https://localhost:8080/"
        },
        "id": "vLG_erqfC9_3",
        "outputId": "8fc27123-62c8-40fc-df4a-7a4df3001297"
      },
      "outputs": [
        {
          "data": {
            "text/plain": [
              "KNeighborsClassifier(algorithm='auto', leaf_size=30, metric='minkowski',\n",
              "                     metric_params=None, n_jobs=None, n_neighbors=1, p=2,\n",
              "                     weights='uniform')"
            ]
          },
          "execution_count": 28,
          "metadata": {
            "tags": []
          },
          "output_type": "execute_result"
        }
      ],
      "source": [
        "knn = KNeighborsClassifier(n_neighbors=1)\n",
        "knn.fit(train_predictors, train_y)"
      ]
    },
    {
      "cell_type": "code",
      "execution_count": null,
      "metadata": {
        "colab": {
          "base_uri": "https://localhost:8080/"
        },
        "id": "kpC19KaPDFaL",
        "outputId": "b9f50ac9-541c-4473-a279-98e8489ec8be"
      },
      "outputs": [
        {
          "name": "stdout",
          "output_type": "stream",
          "text": [
            "Accuracy : 0.7840115052132998\n",
            "\n",
            "Recall : 0.8713067174347201\n",
            "\n",
            "Precision : 0.870867845683158\n",
            "\n",
            "[[ 3472  6922]\n",
            " [ 6895 46682]]\n",
            "\n"
          ]
        }
      ],
      "source": [
        "validation_predictors = knn.predict(validation_predictors)\n",
        "print('Accuracy :',accuracy_score(valid_y, validation_predictors))\n",
        "print()\n",
        "print('Recall :',recall_score(valid_y, validation_predictors))\n",
        "print()\n",
        "print('Precision :',precision_score(valid_y, validation_predictors))\n",
        "print()\n",
        "print(confusion_matrix(valid_y, validation_predictors))\n",
        "print()"
      ]
    },
    {
      "cell_type": "markdown",
      "metadata": {
        "id": "QoJvZy3BIjSp"
      },
      "source": [
        "# Conclusion and recommendation"
      ]
    },
    {
      "cell_type": "markdown",
      "metadata": {
        "id": "kI0e-3WxjzMe"
      },
      "source": [
        "Our models seek to predict low risk opportunities to underwrite. \n",
        "\n",
        "False Positive (FP) indicates instances when the model classified the area as low risk (i.e. value of 1) when in fact it was high risk (i.e. value of 0 and loss above 50%).​ This is costly to the business since they end up paying out a higher amount than expected.\n",
        "\n",
        "False Negative (FN) is an instance when the model classified the area as high risk (i.e. value of 0) when in fact it was low risk (i.e. value of 1 and loss below 50%)​. The business will lose the potential premiums. This will be less costly to the business compared to the cost of taking a higher risk than expected (FP).\n",
        "\n",
        "Since the cost of a FP is greater than a FN negative, the business has to minimize FP and the best measure to optimize for FP is Precision score. The table below shows the performance of various models. \n",
        "\n",
        "</br><center> <b> COMPARISION OF PERFORMANCE </b> </center>\n",
        "\n",
        "| Models    | Logistic | Decision Tree | XGBOOST  | MLP      | k-NN     |\n",
        "|-----------|----------|---------------|----------|----------|----------|\n",
        "| Precision | 83.7521% | 87.1322%      | 86.9280% | 84.2576% | 87.0867% |\n",
        "| Accuracy  | 83.7395% | 81.6617%      | 83.3627% | 83.8207% | 78.4011% |\n",
        "\n",
        "Looking at the table above, we  can see that the decision tree has the highest precision score of 87.1322% . The K-NN model has the precision score of 87.0867%, which is close to the precision score of decsion tree. However, Decision tree outperforms K-NN in terms of the accuracy score (81.6617 > 78.4011%). In addition, the decision tree model was significantly faster to run. Given how large the dataset is, speed is a very important feature. Hence, decision tree would be the recommended model. "
      ]
    }
  ],
  "metadata": {
    "accelerator": "TPU",
    "colab": {
      "collapsed_sections": [
        "xmSVHcWIDRn6",
        "LxuVNBWysg_r",
        "s_NTgNcqsoFx",
        "jshuuIM1tZBc",
        "TcJlYU2SAZhi",
        "5aII2NOABKDS",
        "Q0nkM39lDVnk",
        "S-cSnMCBDY9j",
        "J0WkQKSpC2kj",
        "ZE2CnPqaEc1D",
        "sIBlPWawGRMP",
        "gqwj3SR4GCms",
        "1mq9xXsCvn8A",
        "0EOxI_tyQ41D",
        "ZcvFzLR0Q9n8",
        "lQXJyCdfw3_F",
        "g8Invw-1ztCb",
        "F_DumOcVzu1t",
        "99N6XVWqzysn",
        "8K9ZO63V0BHG",
        "ujSi7Zoy0JVy",
        "MCz9X9U7ggL6",
        "kjU0MxW_5D1b",
        "bJX-Ct0p7G4c",
        "5uo_Z5GG7otw",
        "EnklzBH9wDoS",
        "wtvolu0-xzcQ",
        "Uzee1PgAyA0x",
        "-KpUZ9K3yJEf",
        "cenCpdKqwnxj",
        "zhn2oQG5yiyw",
        "PWMsjxQay7al",
        "TJ8WH27mRDT-"
      ],
      "machine_shape": "hm",
      "name": "Final_Deliverable.ipynb",
      "provenance": []
    },
    "kernelspec": {
      "display_name": "Python 3",
      "name": "python3"
    },
    "language_info": {
      "codemirror_mode": {
        "name": "ipython",
        "version": 3
      },
      "file_extension": ".py",
      "mimetype": "text/x-python",
      "name": "python",
      "nbconvert_exporter": "python",
      "pygments_lexer": "ipython3",
      "version": "3.12.5"
    }
  },
  "nbformat": 4,
  "nbformat_minor": 0
}
